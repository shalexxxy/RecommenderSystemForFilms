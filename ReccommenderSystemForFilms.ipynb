{
 "cells": [
  {
   "cell_type": "code",
   "execution_count": 2,
   "metadata": {},
   "outputs": [],
   "source": [
    "import warnings\n",
    "warnings.filterwarnings('ignore')"
   ]
  },
  {
   "cell_type": "code",
   "execution_count": 3,
   "metadata": {},
   "outputs": [],
   "source": [
    "import os\n",
    "import numpy as np\n",
    "import pandas as pd\n",
    "import matplotlib.pyplot as plt\n",
    "from tqdm import tqdm_notebook\n",
    "from scipy.spatial.distance import cosine\n",
    "\n",
    "%matplotlib inline\n",
    "\n",
    "plt.style.use('ggplot')\n",
    "plt.rcParams['figure.figsize'] = (12, 6)"
   ]
  },
  {
   "cell_type": "code",
   "execution_count": 4,
   "metadata": {},
   "outputs": [],
   "source": [
    "filepath = './data/user_ratedmovies.dat'\n",
    "df_rates = pd.read_csv(filepath, sep='\\t')"
   ]
  },
  {
   "cell_type": "code",
   "execution_count": 5,
   "metadata": {},
   "outputs": [
    {
     "data": {
      "text/html": [
       "<div>\n",
       "<style scoped>\n",
       "    .dataframe tbody tr th:only-of-type {\n",
       "        vertical-align: middle;\n",
       "    }\n",
       "\n",
       "    .dataframe tbody tr th {\n",
       "        vertical-align: top;\n",
       "    }\n",
       "\n",
       "    .dataframe thead th {\n",
       "        text-align: right;\n",
       "    }\n",
       "</style>\n",
       "<table border=\"1\" class=\"dataframe\">\n",
       "  <thead>\n",
       "    <tr style=\"text-align: right;\">\n",
       "      <th></th>\n",
       "      <th>id</th>\n",
       "      <th>title</th>\n",
       "      <th>imdbID</th>\n",
       "      <th>spanishTitle</th>\n",
       "      <th>imdbPictureURL</th>\n",
       "      <th>year</th>\n",
       "      <th>rtID</th>\n",
       "      <th>rtAllCriticsRating</th>\n",
       "      <th>rtAllCriticsNumReviews</th>\n",
       "      <th>rtAllCriticsNumFresh</th>\n",
       "      <th>...</th>\n",
       "      <th>rtAllCriticsScore</th>\n",
       "      <th>rtTopCriticsRating</th>\n",
       "      <th>rtTopCriticsNumReviews</th>\n",
       "      <th>rtTopCriticsNumFresh</th>\n",
       "      <th>rtTopCriticsNumRotten</th>\n",
       "      <th>rtTopCriticsScore</th>\n",
       "      <th>rtAudienceRating</th>\n",
       "      <th>rtAudienceNumRatings</th>\n",
       "      <th>rtAudienceScore</th>\n",
       "      <th>rtPictureURL</th>\n",
       "    </tr>\n",
       "  </thead>\n",
       "  <tbody>\n",
       "    <tr>\n",
       "      <th>0</th>\n",
       "      <td>1</td>\n",
       "      <td>Toy story</td>\n",
       "      <td>114709</td>\n",
       "      <td>Toy story (juguetes)</td>\n",
       "      <td>http://ia.media-imdb.com/images/M/MV5BMTMwNDU0...</td>\n",
       "      <td>1995</td>\n",
       "      <td>toy_story</td>\n",
       "      <td>9</td>\n",
       "      <td>73</td>\n",
       "      <td>73</td>\n",
       "      <td>...</td>\n",
       "      <td>100</td>\n",
       "      <td>8.5</td>\n",
       "      <td>17</td>\n",
       "      <td>17</td>\n",
       "      <td>0</td>\n",
       "      <td>100</td>\n",
       "      <td>3.7</td>\n",
       "      <td>102338</td>\n",
       "      <td>81</td>\n",
       "      <td>http://content7.flixster.com/movie/10/93/63/10...</td>\n",
       "    </tr>\n",
       "    <tr>\n",
       "      <th>1</th>\n",
       "      <td>2</td>\n",
       "      <td>Jumanji</td>\n",
       "      <td>113497</td>\n",
       "      <td>Jumanji</td>\n",
       "      <td>http://ia.media-imdb.com/images/M/MV5BMzM5NjE1...</td>\n",
       "      <td>1995</td>\n",
       "      <td>1068044-jumanji</td>\n",
       "      <td>5.6</td>\n",
       "      <td>28</td>\n",
       "      <td>13</td>\n",
       "      <td>...</td>\n",
       "      <td>46</td>\n",
       "      <td>5.8</td>\n",
       "      <td>5</td>\n",
       "      <td>2</td>\n",
       "      <td>3</td>\n",
       "      <td>40</td>\n",
       "      <td>3.2</td>\n",
       "      <td>44587</td>\n",
       "      <td>61</td>\n",
       "      <td>http://content8.flixster.com/movie/56/79/73/56...</td>\n",
       "    </tr>\n",
       "    <tr>\n",
       "      <th>2</th>\n",
       "      <td>3</td>\n",
       "      <td>Grumpy Old Men</td>\n",
       "      <td>107050</td>\n",
       "      <td>Dos viejos gruñones</td>\n",
       "      <td>http://ia.media-imdb.com/images/M/MV5BMTI5MTgy...</td>\n",
       "      <td>1993</td>\n",
       "      <td>grumpy_old_men</td>\n",
       "      <td>5.9</td>\n",
       "      <td>36</td>\n",
       "      <td>24</td>\n",
       "      <td>...</td>\n",
       "      <td>66</td>\n",
       "      <td>7</td>\n",
       "      <td>6</td>\n",
       "      <td>5</td>\n",
       "      <td>1</td>\n",
       "      <td>83</td>\n",
       "      <td>3.2</td>\n",
       "      <td>10489</td>\n",
       "      <td>66</td>\n",
       "      <td>http://content6.flixster.com/movie/25/60/25602...</td>\n",
       "    </tr>\n",
       "    <tr>\n",
       "      <th>3</th>\n",
       "      <td>4</td>\n",
       "      <td>Waiting to Exhale</td>\n",
       "      <td>114885</td>\n",
       "      <td>Esperando un respiro</td>\n",
       "      <td>http://ia.media-imdb.com/images/M/MV5BMTczMTMy...</td>\n",
       "      <td>1995</td>\n",
       "      <td>waiting_to_exhale</td>\n",
       "      <td>5.6</td>\n",
       "      <td>25</td>\n",
       "      <td>14</td>\n",
       "      <td>...</td>\n",
       "      <td>56</td>\n",
       "      <td>5.5</td>\n",
       "      <td>11</td>\n",
       "      <td>5</td>\n",
       "      <td>6</td>\n",
       "      <td>45</td>\n",
       "      <td>3.3</td>\n",
       "      <td>5666</td>\n",
       "      <td>79</td>\n",
       "      <td>http://content9.flixster.com/movie/10/94/17/10...</td>\n",
       "    </tr>\n",
       "    <tr>\n",
       "      <th>4</th>\n",
       "      <td>5</td>\n",
       "      <td>Father of the Bride Part II</td>\n",
       "      <td>113041</td>\n",
       "      <td>Vuelve el padre de la novia (Ahora también abu...</td>\n",
       "      <td>http://ia.media-imdb.com/images/M/MV5BMTg1NDc2...</td>\n",
       "      <td>1995</td>\n",
       "      <td>father_of_the_bride_part_ii</td>\n",
       "      <td>5.3</td>\n",
       "      <td>19</td>\n",
       "      <td>9</td>\n",
       "      <td>...</td>\n",
       "      <td>47</td>\n",
       "      <td>5.4</td>\n",
       "      <td>5</td>\n",
       "      <td>1</td>\n",
       "      <td>4</td>\n",
       "      <td>20</td>\n",
       "      <td>3</td>\n",
       "      <td>13761</td>\n",
       "      <td>64</td>\n",
       "      <td>http://content8.flixster.com/movie/25/54/25542...</td>\n",
       "    </tr>\n",
       "    <tr>\n",
       "      <th>...</th>\n",
       "      <td>...</td>\n",
       "      <td>...</td>\n",
       "      <td>...</td>\n",
       "      <td>...</td>\n",
       "      <td>...</td>\n",
       "      <td>...</td>\n",
       "      <td>...</td>\n",
       "      <td>...</td>\n",
       "      <td>...</td>\n",
       "      <td>...</td>\n",
       "      <td>...</td>\n",
       "      <td>...</td>\n",
       "      <td>...</td>\n",
       "      <td>...</td>\n",
       "      <td>...</td>\n",
       "      <td>...</td>\n",
       "      <td>...</td>\n",
       "      <td>...</td>\n",
       "      <td>...</td>\n",
       "      <td>...</td>\n",
       "      <td>...</td>\n",
       "    </tr>\n",
       "    <tr>\n",
       "      <th>10192</th>\n",
       "      <td>65088</td>\n",
       "      <td>Bedtime Stories</td>\n",
       "      <td>960731</td>\n",
       "      <td>Más allá de los sueños</td>\n",
       "      <td>http://ia.media-imdb.com/images/M/MV5BMjA5Njk5...</td>\n",
       "      <td>2008</td>\n",
       "      <td>bedtime_stories</td>\n",
       "      <td>4.4</td>\n",
       "      <td>104</td>\n",
       "      <td>26</td>\n",
       "      <td>...</td>\n",
       "      <td>25</td>\n",
       "      <td>4.7</td>\n",
       "      <td>26</td>\n",
       "      <td>6</td>\n",
       "      <td>20</td>\n",
       "      <td>23</td>\n",
       "      <td>3.5</td>\n",
       "      <td>108877</td>\n",
       "      <td>63</td>\n",
       "      <td>http://content6.flixster.com/movie/10/94/33/10...</td>\n",
       "    </tr>\n",
       "    <tr>\n",
       "      <th>10193</th>\n",
       "      <td>65091</td>\n",
       "      <td>Manhattan Melodrama</td>\n",
       "      <td>25464</td>\n",
       "      <td>El enemigo público número 1</td>\n",
       "      <td>http://ia.media-imdb.com/images/M/MV5BMTUyODE3...</td>\n",
       "      <td>1934</td>\n",
       "      <td>manhattan_melodrama</td>\n",
       "      <td>7</td>\n",
       "      <td>12</td>\n",
       "      <td>10</td>\n",
       "      <td>...</td>\n",
       "      <td>83</td>\n",
       "      <td>0</td>\n",
       "      <td>4</td>\n",
       "      <td>2</td>\n",
       "      <td>2</td>\n",
       "      <td>50</td>\n",
       "      <td>3.7</td>\n",
       "      <td>344</td>\n",
       "      <td>71</td>\n",
       "      <td>http://content9.flixster.com/movie/66/44/64/66...</td>\n",
       "    </tr>\n",
       "    <tr>\n",
       "      <th>10194</th>\n",
       "      <td>65126</td>\n",
       "      <td>Choke</td>\n",
       "      <td>1024715</td>\n",
       "      <td>Choke</td>\n",
       "      <td>http://ia.media-imdb.com/images/M/MV5BMTMxMDI4...</td>\n",
       "      <td>2008</td>\n",
       "      <td>choke</td>\n",
       "      <td>5.6</td>\n",
       "      <td>135</td>\n",
       "      <td>73</td>\n",
       "      <td>...</td>\n",
       "      <td>54</td>\n",
       "      <td>4.9</td>\n",
       "      <td>26</td>\n",
       "      <td>8</td>\n",
       "      <td>18</td>\n",
       "      <td>30</td>\n",
       "      <td>3.3</td>\n",
       "      <td>13893</td>\n",
       "      <td>55</td>\n",
       "      <td>http://content6.flixster.com/movie/10/85/09/10...</td>\n",
       "    </tr>\n",
       "    <tr>\n",
       "      <th>10195</th>\n",
       "      <td>65130</td>\n",
       "      <td>Revolutionary Road</td>\n",
       "      <td>959337</td>\n",
       "      <td>Revolutionary Road</td>\n",
       "      <td>http://ia.media-imdb.com/images/M/MV5BMTI2MzY2...</td>\n",
       "      <td>2008</td>\n",
       "      <td>revolutionary_road</td>\n",
       "      <td>6.7</td>\n",
       "      <td>194</td>\n",
       "      <td>133</td>\n",
       "      <td>...</td>\n",
       "      <td>68</td>\n",
       "      <td>6.9</td>\n",
       "      <td>36</td>\n",
       "      <td>25</td>\n",
       "      <td>11</td>\n",
       "      <td>69</td>\n",
       "      <td>3.5</td>\n",
       "      <td>46044</td>\n",
       "      <td>70</td>\n",
       "      <td>http://content8.flixster.com/movie/10/88/40/10...</td>\n",
       "    </tr>\n",
       "    <tr>\n",
       "      <th>10196</th>\n",
       "      <td>65133</td>\n",
       "      <td>Blackadder Back &amp; Forth</td>\n",
       "      <td>212579</td>\n",
       "      <td>Blackadder Back &amp; Forth</td>\n",
       "      <td>http://ia.media-imdb.com/images/M/MV5BMjA5MjU4...</td>\n",
       "      <td>1999</td>\n",
       "      <td>blackadder-back-forth</td>\n",
       "      <td>0</td>\n",
       "      <td>0</td>\n",
       "      <td>0</td>\n",
       "      <td>...</td>\n",
       "      <td>0</td>\n",
       "      <td>0</td>\n",
       "      <td>0</td>\n",
       "      <td>0</td>\n",
       "      <td>0</td>\n",
       "      <td>0</td>\n",
       "      <td>0</td>\n",
       "      <td>0</td>\n",
       "      <td>0</td>\n",
       "      <td>http://content7.flixster.com/movie/34/10/69/34...</td>\n",
       "    </tr>\n",
       "  </tbody>\n",
       "</table>\n",
       "<p>10197 rows × 21 columns</p>\n",
       "</div>"
      ],
      "text/plain": [
       "          id                        title   imdbID  \\\n",
       "0          1                    Toy story   114709   \n",
       "1          2                      Jumanji   113497   \n",
       "2          3               Grumpy Old Men   107050   \n",
       "3          4            Waiting to Exhale   114885   \n",
       "4          5  Father of the Bride Part II   113041   \n",
       "...      ...                          ...      ...   \n",
       "10192  65088              Bedtime Stories   960731   \n",
       "10193  65091          Manhattan Melodrama    25464   \n",
       "10194  65126                        Choke  1024715   \n",
       "10195  65130           Revolutionary Road   959337   \n",
       "10196  65133      Blackadder Back & Forth   212579   \n",
       "\n",
       "                                            spanishTitle  \\\n",
       "0                                   Toy story (juguetes)   \n",
       "1                                                Jumanji   \n",
       "2                                    Dos viejos gruñones   \n",
       "3                                   Esperando un respiro   \n",
       "4      Vuelve el padre de la novia (Ahora también abu...   \n",
       "...                                                  ...   \n",
       "10192                             Más allá de los sueños   \n",
       "10193                        El enemigo público número 1   \n",
       "10194                                              Choke   \n",
       "10195                                 Revolutionary Road   \n",
       "10196                            Blackadder Back & Forth   \n",
       "\n",
       "                                          imdbPictureURL  year  \\\n",
       "0      http://ia.media-imdb.com/images/M/MV5BMTMwNDU0...  1995   \n",
       "1      http://ia.media-imdb.com/images/M/MV5BMzM5NjE1...  1995   \n",
       "2      http://ia.media-imdb.com/images/M/MV5BMTI5MTgy...  1993   \n",
       "3      http://ia.media-imdb.com/images/M/MV5BMTczMTMy...  1995   \n",
       "4      http://ia.media-imdb.com/images/M/MV5BMTg1NDc2...  1995   \n",
       "...                                                  ...   ...   \n",
       "10192  http://ia.media-imdb.com/images/M/MV5BMjA5Njk5...  2008   \n",
       "10193  http://ia.media-imdb.com/images/M/MV5BMTUyODE3...  1934   \n",
       "10194  http://ia.media-imdb.com/images/M/MV5BMTMxMDI4...  2008   \n",
       "10195  http://ia.media-imdb.com/images/M/MV5BMTI2MzY2...  2008   \n",
       "10196  http://ia.media-imdb.com/images/M/MV5BMjA5MjU4...  1999   \n",
       "\n",
       "                              rtID rtAllCriticsRating rtAllCriticsNumReviews  \\\n",
       "0                        toy_story                  9                     73   \n",
       "1                  1068044-jumanji                5.6                     28   \n",
       "2                   grumpy_old_men                5.9                     36   \n",
       "3                waiting_to_exhale                5.6                     25   \n",
       "4      father_of_the_bride_part_ii                5.3                     19   \n",
       "...                            ...                ...                    ...   \n",
       "10192              bedtime_stories                4.4                    104   \n",
       "10193          manhattan_melodrama                  7                     12   \n",
       "10194                        choke                5.6                    135   \n",
       "10195           revolutionary_road                6.7                    194   \n",
       "10196        blackadder-back-forth                  0                      0   \n",
       "\n",
       "      rtAllCriticsNumFresh  ... rtAllCriticsScore rtTopCriticsRating  \\\n",
       "0                       73  ...               100                8.5   \n",
       "1                       13  ...                46                5.8   \n",
       "2                       24  ...                66                  7   \n",
       "3                       14  ...                56                5.5   \n",
       "4                        9  ...                47                5.4   \n",
       "...                    ...  ...               ...                ...   \n",
       "10192                   26  ...                25                4.7   \n",
       "10193                   10  ...                83                  0   \n",
       "10194                   73  ...                54                4.9   \n",
       "10195                  133  ...                68                6.9   \n",
       "10196                    0  ...                 0                  0   \n",
       "\n",
       "      rtTopCriticsNumReviews rtTopCriticsNumFresh rtTopCriticsNumRotten  \\\n",
       "0                         17                   17                     0   \n",
       "1                          5                    2                     3   \n",
       "2                          6                    5                     1   \n",
       "3                         11                    5                     6   \n",
       "4                          5                    1                     4   \n",
       "...                      ...                  ...                   ...   \n",
       "10192                     26                    6                    20   \n",
       "10193                      4                    2                     2   \n",
       "10194                     26                    8                    18   \n",
       "10195                     36                   25                    11   \n",
       "10196                      0                    0                     0   \n",
       "\n",
       "      rtTopCriticsScore rtAudienceRating rtAudienceNumRatings rtAudienceScore  \\\n",
       "0                   100              3.7               102338              81   \n",
       "1                    40              3.2                44587              61   \n",
       "2                    83              3.2                10489              66   \n",
       "3                    45              3.3                 5666              79   \n",
       "4                    20                3                13761              64   \n",
       "...                 ...              ...                  ...             ...   \n",
       "10192                23              3.5               108877              63   \n",
       "10193                50              3.7                  344              71   \n",
       "10194                30              3.3                13893              55   \n",
       "10195                69              3.5                46044              70   \n",
       "10196                 0                0                    0               0   \n",
       "\n",
       "                                            rtPictureURL  \n",
       "0      http://content7.flixster.com/movie/10/93/63/10...  \n",
       "1      http://content8.flixster.com/movie/56/79/73/56...  \n",
       "2      http://content6.flixster.com/movie/25/60/25602...  \n",
       "3      http://content9.flixster.com/movie/10/94/17/10...  \n",
       "4      http://content8.flixster.com/movie/25/54/25542...  \n",
       "...                                                  ...  \n",
       "10192  http://content6.flixster.com/movie/10/94/33/10...  \n",
       "10193  http://content9.flixster.com/movie/66/44/64/66...  \n",
       "10194  http://content6.flixster.com/movie/10/85/09/10...  \n",
       "10195  http://content8.flixster.com/movie/10/88/40/10...  \n",
       "10196  http://content7.flixster.com/movie/34/10/69/34...  \n",
       "\n",
       "[10197 rows x 21 columns]"
      ]
     },
     "execution_count": 5,
     "metadata": {},
     "output_type": "execute_result"
    }
   ],
   "source": [
    "filepath = './data/movies.dat'\n",
    "df_movies = pd.read_csv(filepath, sep='\\t', encoding='iso-8859-1')\n",
    "df_movies"
   ]
  },
  {
   "cell_type": "markdown",
   "metadata": {},
   "source": [
    "Recode users ids"
   ]
  },
  {
   "cell_type": "code",
   "execution_count": 6,
   "metadata": {},
   "outputs": [],
   "source": [
    "from sklearn.preprocessing import LabelEncoder"
   ]
  },
  {
   "cell_type": "code",
   "execution_count": 7,
   "metadata": {},
   "outputs": [],
   "source": [
    "enc_user = LabelEncoder()\n",
    "enc_mov = LabelEncoder()"
   ]
  },
  {
   "cell_type": "code",
   "execution_count": 8,
   "metadata": {},
   "outputs": [],
   "source": [
    "enc_user = enc_user.fit(df_rates.userID.values)\n",
    "enc_mov = enc_mov.fit(df_rates.movieID.values)"
   ]
  },
  {
   "cell_type": "code",
   "execution_count": 9,
   "metadata": {},
   "outputs": [],
   "source": [
    "idx = df_movies.loc[:, 'id'].isin(df_rates.movieID)\n",
    "df_movies = df_movies.loc[idx]"
   ]
  },
  {
   "cell_type": "code",
   "execution_count": 10,
   "metadata": {},
   "outputs": [],
   "source": [
    "df_rates.loc[:, 'userID'] = enc_user.transform(df_rates.loc[:, 'userID'].values)\n",
    "df_rates.loc[:, 'movieID'] = enc_mov.transform(df_rates.loc[:, 'movieID'].values)\n",
    "df_movies.loc[:, 'id'] = enc_mov.transform(df_movies.loc[:, 'id'].values)"
   ]
  },
  {
   "cell_type": "markdown",
   "metadata": {},
   "source": [
    "## Матрица рейтингов"
   ]
  },
  {
   "cell_type": "code",
   "execution_count": 11,
   "metadata": {},
   "outputs": [],
   "source": [
    "from scipy.sparse import coo_matrix, csr_matrix"
   ]
  },
  {
   "cell_type": "code",
   "execution_count": 12,
   "metadata": {},
   "outputs": [],
   "source": [
    "R = coo_matrix((df_rates.rating.values, (df_rates.userID.values, df_rates.movieID.values)))"
   ]
  },
  {
   "cell_type": "code",
   "execution_count": 13,
   "metadata": {},
   "outputs": [
    {
     "data": {
      "text/plain": [
       "array([   2,   31,  105, ..., 9211, 9900, 9957], dtype=int64)"
      ]
     },
     "execution_count": 13,
     "metadata": {},
     "output_type": "execute_result"
    }
   ],
   "source": [
    "R\n",
    "df_rates.movieID.values"
   ]
  },
  {
   "cell_type": "markdown",
   "metadata": {},
   "source": [
    "## Похожесть между пользователями"
   ]
  },
  {
   "cell_type": "code",
   "execution_count": 14,
   "metadata": {
    "scrolled": true
   },
   "outputs": [],
   "source": [
    "R = R.tocsr()"
   ]
  },
  {
   "cell_type": "code",
   "execution_count": 23,
   "metadata": {},
   "outputs": [
    {
     "name": "stdout",
     "output_type": "stream",
     "text": [
      "0\n"
     ]
    }
   ],
   "source": [
    "def cosine_similarity_pair_users(u, v):\n",
    "    ## Your code here\n",
    "    idx =(u.toarray() != 0) & (v.toarray() != 0)\n",
    "    v1 = v[idx]\n",
    "    u1 =u[idx]\n",
    "    if v1.shape[1] <=2 or u1.shape[1]<=2:\n",
    "        return 0\n",
    "    i = 0\n",
    "    res = 0\n",
    "    res1 = 0\n",
    "    res2 = 0\n",
    "    while True:\n",
    "        try:\n",
    "            res += v1[0,i] * u1[0,i]\n",
    "            res1 += v1[0,i]**2\n",
    "            res2 += u1[0,i]**2\n",
    "            i+=1\n",
    "        except IndexError:\n",
    "            break     \n",
    "    return res/(np.sqrt(res1)*np.sqrt(res2))\n",
    "r = cosine_similarity_pair_users(R[42], R[1378])\n",
    "print(r)"
   ]
  },
  {
   "cell_type": "code",
   "execution_count": 24,
   "metadata": {},
   "outputs": [
    {
     "name": "stdout",
     "output_type": "stream",
     "text": [
      "(2113, 10109)\n",
      "0.923\n"
     ]
    }
   ],
   "source": [
    "r1 = np.squeeze(np.asarray(R[146]))\n",
    "r2 = np.squeeze(np.asarray(R[239]))\n",
    "print(R.shape)\n",
    "answer1 = round(cosine_similarity_pair_users(R[146], R[239]),3)\n",
    "print(answer1)"
   ]
  },
  {
   "cell_type": "markdown",
   "metadata": {},
   "source": [
    "## Функция нахождения пользователей, схожих с данным. "
   ]
  },
  {
   "cell_type": "code",
   "execution_count": 25,
   "metadata": {},
   "outputs": [
    {
     "data": {
      "text/plain": [
       "array([  42,  281,  633,  724,  815,    2,  620,  650, 1692, 1506],\n",
       "      dtype=int64)"
      ]
     },
     "execution_count": 25,
     "metadata": {},
     "output_type": "execute_result"
    }
   ],
   "source": [
    "def similar_users(u, R, n_neigbours):\n",
    "    ## Your code here\n",
    "    ousers = np.zeros((R.shape[0]))\n",
    "    for i in range(2113):\n",
    "        ousers[i] = cosine_similarity_pair_users(R[u], R[i])\n",
    "    res = np.argsort(ousers)[::-1]\n",
    "    return(res[:n_neigbours])\n",
    "similar_users(42, R, 10)"
   ]
  },
  {
   "cell_type": "code",
   "execution_count": 26,
   "metadata": {},
   "outputs": [],
   "source": [
    "answer2 = np.array2string(similar_users(42, R, 10)).replace(' ','').replace('[','').replace(']','')"
   ]
  },
  {
   "cell_type": "code",
   "execution_count": 27,
   "metadata": {},
   "outputs": [
    {
     "data": {
      "text/plain": [
       "'42281633724815262065016921506'"
      ]
     },
     "execution_count": 27,
     "metadata": {},
     "output_type": "execute_result"
    }
   ],
   "source": [
    "answer2"
   ]
  },
  {
   "cell_type": "markdown",
   "metadata": {},
   "source": [
    "## Функция прогнозирования рейтинга"
   ]
  },
  {
   "cell_type": "code",
   "execution_count": 28,
   "metadata": {},
   "outputs": [],
   "source": [
    "def rate_items_user(u, R, n_neigbours):\n",
    "    predictions = np.zeros((R.shape[1]))\n",
    "    neighbours = np.delete(similar_users(u, R, n_neigbours+1),1)\n",
    "    sn = dict()\n",
    "    for i in neighbours:\n",
    "        sn[i] = cosine_similarity_pair_users(R[u], R[i])\n",
    "    for j in range(R.shape[1]):\n",
    "        if R[u,j] == 0:\n",
    "            sinmodule = 0\n",
    "            sin = 0\n",
    "            for k in range(30):\n",
    "                if R[neighbours[k],j]!=0:\n",
    "                    sinmodule +=  abs(sn[neighbours[k]])\n",
    "                    sin += R[neighbours[k],j]*sn[neighbours[k]]\n",
    "            predictions[j] = sin/sinmodule\n",
    "    res = np.argsort(predictions)\n",
    "    print(predictions[res[-1]])\n",
    "    print(predictions[res[-2]])\n",
    "    print(predictions[res[-3]])\n",
    "    print(predictions[res[-4]])\n",
    "    return res[-5:]\n",
    "\n",
    "\n",
    "#rate_items_user(20, R, n_neigbours=30)"
   ]
  },
  {
   "cell_type": "code",
   "execution_count": 115,
   "metadata": {
    "collapsed": true
   },
   "outputs": [
    {
     "ename": "ZeroDivisionError",
     "evalue": "division by zero",
     "output_type": "error",
     "traceback": [
      "\u001b[1;31m---------------------------------------------------------------------------\u001b[0m",
      "\u001b[1;31mZeroDivisionError\u001b[0m                         Traceback (most recent call last)",
      "\u001b[1;32m<ipython-input-115-5e0f69c1c8ce>\u001b[0m in \u001b[0;36m<module>\u001b[1;34m\u001b[0m\n\u001b[1;32m----> 1\u001b[1;33m \u001b[0mR_hat\u001b[0m \u001b[1;33m=\u001b[0m \u001b[0mrate_items_user\u001b[0m\u001b[1;33m(\u001b[0m\u001b[1;36m20\u001b[0m\u001b[1;33m,\u001b[0m \u001b[0mR\u001b[0m\u001b[1;33m,\u001b[0m \u001b[0mn_neigbours\u001b[0m\u001b[1;33m=\u001b[0m\u001b[1;36m30\u001b[0m\u001b[1;33m)\u001b[0m\u001b[1;33m\u001b[0m\u001b[0m\n\u001b[0m",
      "\u001b[1;32m<ipython-input-114-3f70e178138b>\u001b[0m in \u001b[0;36mrate_items_user\u001b[1;34m(u, R, n_neigbours)\u001b[0m\n\u001b[0;32m     38\u001b[0m                     \u001b[0msinmodule\u001b[0m \u001b[1;33m+=\u001b[0m  \u001b[0mabs\u001b[0m\u001b[1;33m(\u001b[0m\u001b[0msn\u001b[0m\u001b[1;33m[\u001b[0m\u001b[0mneighbours\u001b[0m\u001b[1;33m[\u001b[0m\u001b[0mk\u001b[0m\u001b[1;33m]\u001b[0m\u001b[1;33m]\u001b[0m\u001b[1;33m)\u001b[0m\u001b[1;33m\u001b[0m\u001b[0m\n\u001b[0;32m     39\u001b[0m                     \u001b[0msin\u001b[0m \u001b[1;33m+=\u001b[0m \u001b[0mR\u001b[0m\u001b[1;33m[\u001b[0m\u001b[0mneighbours\u001b[0m\u001b[1;33m[\u001b[0m\u001b[0mk\u001b[0m\u001b[1;33m]\u001b[0m\u001b[1;33m,\u001b[0m\u001b[0mj\u001b[0m\u001b[1;33m]\u001b[0m\u001b[1;33m*\u001b[0m\u001b[0msn\u001b[0m\u001b[1;33m[\u001b[0m\u001b[0mneighbours\u001b[0m\u001b[1;33m[\u001b[0m\u001b[0mk\u001b[0m\u001b[1;33m]\u001b[0m\u001b[1;33m]\u001b[0m\u001b[1;33m\u001b[0m\u001b[0m\n\u001b[1;32m---> 40\u001b[1;33m             \u001b[0mpredictions\u001b[0m\u001b[1;33m[\u001b[0m\u001b[0mj\u001b[0m\u001b[1;33m]\u001b[0m \u001b[1;33m=\u001b[0m \u001b[0msin\u001b[0m\u001b[1;33m/\u001b[0m\u001b[0msinmodule\u001b[0m\u001b[1;33m\u001b[0m\u001b[0m\n\u001b[0m\u001b[0;32m     41\u001b[0m     \u001b[0mres\u001b[0m \u001b[1;33m=\u001b[0m \u001b[0mnp\u001b[0m\u001b[1;33m.\u001b[0m\u001b[0margsort\u001b[0m\u001b[1;33m(\u001b[0m\u001b[0mpredictions\u001b[0m\u001b[1;33m)\u001b[0m\u001b[1;33m\u001b[0m\u001b[0m\n\u001b[0;32m     42\u001b[0m     \u001b[0mprint\u001b[0m\u001b[1;33m(\u001b[0m\u001b[0mpredictions\u001b[0m\u001b[1;33m[\u001b[0m\u001b[0mres\u001b[0m\u001b[1;33m[\u001b[0m\u001b[1;33m-\u001b[0m\u001b[1;36m1\u001b[0m\u001b[1;33m]\u001b[0m\u001b[1;33m]\u001b[0m\u001b[1;33m)\u001b[0m\u001b[1;33m\u001b[0m\u001b[0m\n",
      "\u001b[1;31mZeroDivisionError\u001b[0m: division by zero"
     ]
    }
   ],
   "source": [
    "R_hat = rate_items_user(20, R, n_neigbours=30)"
   ]
  },
  {
   "cell_type": "code",
   "execution_count": null,
   "metadata": {},
   "outputs": [],
   "source": []
  },
  {
   "cell_type": "code",
   "execution_count": null,
   "metadata": {},
   "outputs": [],
   "source": []
  },
  {
   "cell_type": "code",
   "execution_count": null,
   "metadata": {},
   "outputs": [],
   "source": []
  }
 ],
 "metadata": {
  "anaconda-cloud": {},
  "kernelspec": {
   "display_name": "Python 3",
   "language": "python",
   "name": "python3"
  },
  "language_info": {
   "codemirror_mode": {
    "name": "ipython",
    "version": 3
   },
   "file_extension": ".py",
   "mimetype": "text/x-python",
   "name": "python",
   "nbconvert_exporter": "python",
   "pygments_lexer": "ipython3",
   "version": "3.6.0"
  },
  "toc": {
   "base_numbering": 1,
   "nav_menu": {
    "height": "69px",
    "width": "253px"
   },
   "number_sections": true,
   "sideBar": true,
   "skip_h1_title": false,
   "title_cell": "Table of Contents",
   "title_sidebar": "Contents",
   "toc_cell": false,
   "toc_position": {},
   "toc_section_display": "block",
   "toc_window_display": false
  }
 },
 "nbformat": 4,
 "nbformat_minor": 2
}
